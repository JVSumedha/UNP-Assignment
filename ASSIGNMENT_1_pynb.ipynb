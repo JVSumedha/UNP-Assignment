{
  "nbformat": 4,
  "nbformat_minor": 0,
  "metadata": {
    "colab": {
      "name": "ASSIGNMENT 1.pynb",
      "provenance": [],
      "collapsed_sections": []
    },
    "kernelspec": {
      "name": "python3",
      "display_name": "Python 3"
    },
    "language_info": {
      "name": "python"
    }
  },
  "cells": [
    {
      "cell_type": "markdown",
      "source": [
        "Let's solve a few problems to sharpen your coding skill.\n",
        "You can code in the cell following the problem statement.\n",
        "\n",
        "Problem-1\n",
        "Your friend measures his body temperature using a thermometer and finds the\n",
        "reading to be 100 degree Farenheit. Can you please let us know the reading in Celsius scale?"
      ],
      "metadata": {
        "id": "8uLg3T2R2I82"
      }
    },
    {
      "cell_type": "code",
      "source": [
        "F = 100\n",
        "c = (F-32)*5/9\n",
        "print(c)"
      ],
      "metadata": {
        "colab": {
          "base_uri": "https://localhost:8080/"
        },
        "id": "K4SdieKR2Knx",
        "outputId": "07508c4e-ca3b-43bb-df83-683e07cb2ecf"
      },
      "execution_count": null,
      "outputs": [
        {
          "output_type": "stream",
          "name": "stdout",
          "text": [
            "37.77777777777778\n"
          ]
        }
      ]
    },
    {
      "cell_type": "markdown",
      "source": [
        "Problem-2\n",
        "The cost of producing x unit of item in a factory is y. Cost y is related\n",
        "to unit x by the following formula\n",
        "y= ax^2+bx+c where\n",
        "a, b, c are constants having value 2, 5, 1020 respectively.\n",
        "In this text (not in python language) ^ represents raised to the power.\n",
        "If management wants to produce 10,000 quantities of product, please let us know\n",
        "the average manufacturing cost for a single item."
      ],
      "metadata": {
        "id": "8_Wj7W2u2bHX"
      }
    },
    {
      "cell_type": "code",
      "source": [
        "a = 2\n",
        "b = 5\n",
        "c = 1020\n",
        "x = 10000\n",
        "y = (a*(x**2))+(b*x)+c\n",
        "y1=y/10000\n",
        "print(y1)"
      ],
      "metadata": {
        "colab": {
          "base_uri": "https://localhost:8080/"
        },
        "id": "aX85cfab2cYB",
        "outputId": "ed4f47bd-1532-4da9-db10-2e808bebe024"
      },
      "execution_count": null,
      "outputs": [
        {
          "output_type": "stream",
          "name": "stdout",
          "text": [
            "20005.102\n"
          ]
        }
      ]
    }
  ]
}