{
  "nbformat": 4,
  "nbformat_minor": 0,
  "metadata": {
    "colab": {
      "name": "ASSIGNMENT 2",
      "provenance": [],
      "collapsed_sections": []
    },
    "kernelspec": {
      "name": "python3",
      "display_name": "Python 3"
    },
    "language_info": {
      "name": "python"
    }
  },
  "cells": [
    {
      "cell_type": "markdown",
      "source": [
        "This is your assignment on conditional statement and looping\n",
        "\n",
        "Problem-1\n",
        "Write a small program to check a number is divisible by 7 or not"
      ],
      "metadata": {
        "id": "ims-L6KU2-uP"
      }
    },
    {
      "cell_type": "code",
      "source": [
        "n=int(input(\"Enter a number:\"))\n",
        "if n%7==0:\n",
        "  print(\"Number is divisible by 7\")\n",
        "else:\n",
        "  print(\"Not divisible by 7\")"
      ],
      "metadata": {
        "colab": {
          "base_uri": "https://localhost:8080/"
        },
        "id": "vQcEyMur3Err",
        "outputId": "11ae2843-5a60-4503-b1a8-4e6377ccfe71"
      },
      "execution_count": null,
      "outputs": [
        {
          "output_type": "stream",
          "name": "stdout",
          "text": [
            "Enter a number:14\n",
            "Number is divisible by 7\n"
          ]
        }
      ]
    },
    {
      "cell_type": "markdown",
      "source": [
        "Problem-2\n",
        "If a number is divisible by either 5 or 7, then we will call it a 'five-or-seven' number.\n",
        "Write down a program to check if a number is 'five-or-seven' number or not."
      ],
      "metadata": {
        "id": "0FsNY1Bb3N06"
      }
    },
    {
      "cell_type": "code",
      "source": [
        "n=int(input(\"Enter a number:\"))\n",
        "if (n%7==0) and (n%5==0):\n",
        "  print(\"Number is divisible\")\n",
        "elif(n%7==0):\n",
        "  print(\"divisible by only 7\")\n",
        "elif(n%5==0):\n",
        "  print(\"divisible by only 5\")\n",
        "else:\n",
        "  print(\"None\")"
      ],
      "metadata": {
        "colab": {
          "base_uri": "https://localhost:8080/"
        },
        "id": "WSPHxz683T09",
        "outputId": "37080bb8-1b5a-4d62-a0ed-120e3ded8e98"
      },
      "execution_count": null,
      "outputs": [
        {
          "output_type": "stream",
          "name": "stdout",
          "text": [
            "Enter a number:49\n",
            "divisible by only 7\n"
          ]
        }
      ]
    },
    {
      "cell_type": "markdown",
      "source": [
        "Problem-3\n",
        "Write a program to calculate the electricity bill (accept number of unit from user) according to the following criteria:\n",
        "\n",
        "Upto first 100 units Rs. 3 per unit.\n",
        "Next 100 units Rs. 5 per unit.\n",
        "Next 300 units Rs. 7 per unit.\n",
        "Above that, for each unit exceeding 500, Rs. 10 per unit flat."
      ],
      "metadata": {
        "id": "AUzVJ09O3jp7"
      }
    },
    {
      "cell_type": "code",
      "source": [
        "n=int(input(\"enter units of current:\"))\n",
        "amount=0\n",
        "if(n<=100):\n",
        "  amount=n*3\n",
        "elif(n<=200):\n",
        "  amount=n*5\n",
        "elif(n<=500):\n",
        "  amount=n*7\n",
        "else:\n",
        "  amount=n*10\n",
        "print(amount)"
      ],
      "metadata": {
        "colab": {
          "base_uri": "https://localhost:8080/"
        },
        "id": "YC3Mrb8J3k5V",
        "outputId": "a8cd7434-8957-4cae-9da4-0f2f174330a2"
      },
      "execution_count": null,
      "outputs": [
        {
          "output_type": "stream",
          "name": "stdout",
          "text": [
            "enter units of current:400\n",
            "2800\n"
          ]
        }
      ]
    },
    {
      "cell_type": "markdown",
      "source": [
        ""
      ],
      "metadata": {
        "id": "IxyNhbh94PS_"
      }
    },
    {
      "cell_type": "markdown",
      "source": [
        "Problem-4\n",
        "Find out sum of square of all the numbers upto 10, starting from 1"
      ],
      "metadata": {
        "id": "_MEsKdT34aBw"
      }
    },
    {
      "cell_type": "code",
      "source": [
        "n = 10\n",
        "sum = 0\n",
        "for s in range(1,n+1):\n",
        "  sum = sum + (s*s)\n",
        "print(\"Sum of squares is : \", sum)"
      ],
      "metadata": {
        "colab": {
          "base_uri": "https://localhost:8080/"
        },
        "id": "nFpJBXQW4dv0",
        "outputId": "aab8d6c5-321c-4920-f253-55874251bc26"
      },
      "execution_count": null,
      "outputs": [
        {
          "output_type": "stream",
          "name": "stdout",
          "text": [
            "Sum of squares is :  385\n"
          ]
        }
      ]
    },
    {
      "cell_type": "markdown",
      "source": [
        "Problem-5\n",
        "Find out sum of square of all the even numbers upto 10, starting from 1"
      ],
      "metadata": {
        "id": "IPAKhzU54seX"
      }
    },
    {
      "cell_type": "code",
      "source": [
        "n=int(input(\"Enter no.range\"))\n",
        "s=0\n",
        "i=0\n",
        "while(i<n):\n",
        "  if(i%2==0):\n",
        "    s=s+(i*i)\n",
        "  i+=1\n",
        "print(\"Sum of square of even natural no.is:\",s)"
      ],
      "metadata": {
        "colab": {
          "base_uri": "https://localhost:8080/"
        },
        "id": "caR6H0ms4uA7",
        "outputId": "7f310677-ee30-420e-b816-65fb4964c6dc"
      },
      "execution_count": null,
      "outputs": [
        {
          "output_type": "stream",
          "name": "stdout",
          "text": [
            "Enter no.range8\n",
            "Sum of square of even natural no.is: 56\n"
          ]
        }
      ]
    },
    {
      "cell_type": "markdown",
      "source": [
        "Problem-6\n",
        "Check a number is prime or not"
      ],
      "metadata": {
        "id": "MI1L58WR47fG"
      }
    },
    {
      "cell_type": "code",
      "source": [
        "n=int(input(\"Enter any number:\"))\n",
        "if n>1:\n",
        "  for i in range(2,n):\n",
        "    if(n%i == 0):\n",
        "      print(n,\"is not prime\")\n",
        "      break\n",
        "  else:\n",
        "    print(n,\"number is prime\")"
      ],
      "metadata": {
        "colab": {
          "base_uri": "https://localhost:8080/"
        },
        "id": "zf3wUH2P49cE",
        "outputId": "351f7ebc-895f-4c0d-ba6c-b2ae4d391ca5"
      },
      "execution_count": null,
      "outputs": [
        {
          "output_type": "stream",
          "name": "stdout",
          "text": [
            "Enter any number:4\n",
            "4 is not prime\n"
          ]
        }
      ]
    },
    {
      "cell_type": "markdown",
      "source": [
        "Problem-7\n",
        "Print multiplication table upto 10 starting from 1"
      ],
      "metadata": {
        "id": "aVzLRPHL5YB_"
      }
    },
    {
      "cell_type": "code",
      "source": [
        "num = 10\n",
        "#iterate 10 times i = 1 to 10\n",
        "for i in range(1,11):\n",
        "  print(num, 'x', i, '=',num*i)"
      ],
      "metadata": {
        "colab": {
          "base_uri": "https://localhost:8080/"
        },
        "id": "E9WiSWIV5ZYm",
        "outputId": "56dda5dc-ec67-436e-d5e8-811398cd4535"
      },
      "execution_count": null,
      "outputs": [
        {
          "output_type": "stream",
          "name": "stdout",
          "text": [
            "10 x 1 = 10\n",
            "10 x 2 = 20\n",
            "10 x 3 = 30\n",
            "10 x 4 = 40\n",
            "10 x 5 = 50\n",
            "10 x 6 = 60\n",
            "10 x 7 = 70\n",
            "10 x 8 = 80\n",
            "10 x 9 = 90\n",
            "10 x 10 = 100\n"
          ]
        }
      ]
    },
    {
      "cell_type": "markdown",
      "source": [
        "Problem-8\n",
        "Print the series of first n fibonacci numbers"
      ],
      "metadata": {
        "id": "wiYSXJs85vQx"
      }
    },
    {
      "cell_type": "code",
      "source": [
        "n = int(input(\"How many terms?\"))\n",
        "\n",
        "#first two terms\n",
        "n1, n2 = 0, 1\n",
        "count = 0\n",
        "\n",
        "# check if the number of terms is valid\n",
        "if n <= 0:\n",
        "  print(\"Please enter a positive integer\")\n",
        "#if there is only one term,return n1\n",
        "elif n == 1:\n",
        "  print(\"Fibonacci sequence upto\",n,\":\")\n",
        "  print(n1)\n",
        "#generate fibonacci sequence\n",
        "else:\n",
        "  print(\"Fibonacci sequence:\")\n",
        "  while count < n:\n",
        "    print(n1)\n",
        "    nth = n1 + n2\n",
        "    # update values\n",
        "    n1 = n2\n",
        "    n2 = nth\n",
        "    count += 1"
      ],
      "metadata": {
        "colab": {
          "base_uri": "https://localhost:8080/"
        },
        "id": "kmZiP1s05w-s",
        "outputId": "42969f69-2849-4370-a330-11e65e4e1f1c"
      },
      "execution_count": null,
      "outputs": [
        {
          "output_type": "stream",
          "name": "stdout",
          "text": [
            "How many terms?3\n",
            "Fibonacci sequence:\n",
            "0\n",
            "1\n",
            "1\n"
          ]
        }
      ]
    }
  ]
}